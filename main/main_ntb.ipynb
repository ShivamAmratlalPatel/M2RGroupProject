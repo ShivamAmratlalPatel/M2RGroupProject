{
 "cells": [
  {
   "cell_type": "code",
   "execution_count": 1,
   "metadata": {
    "collapsed": true
   },
   "outputs": [],
   "source": [
    "import matplotlib.pyplot as plt\n",
    "\n",
    "from bandits import average_finder\n",
    "from strategies import *"
   ]
  },
  {
   "cell_type": "code",
   "execution_count": 11,
   "outputs": [],
   "source": [
    "machine_no = 10\n",
    "trial_no = 20000\n",
    "gaussian = True\n",
    "number_of_iterations = 50\n"
   ],
   "metadata": {
    "collapsed": false,
    "pycharm": {
     "name": "#%%\n"
    }
   }
  },
  {
   "cell_type": "code",
   "execution_count": 12,
   "outputs": [],
   "source": [
    "random_strategy_regret = []\n",
    "epsilon_first_strategy_regret = []\n",
    "ucb_strategy_regret = []\n",
    "thompson = []\n",
    "strategy_list = [\"random\", \"epsilon_first\", \"ucb\", \"thompson\"]\n"
   ],
   "metadata": {
    "collapsed": false,
    "pycharm": {
     "name": "#%%\n"
    }
   }
  },
  {
   "cell_type": "code",
   "execution_count": 13,
   "outputs": [],
   "source": [
    "for i in range(number_of_iterations):\n",
    "    random_strategy_regret.append(\n",
    "        random_strategy_calculator(machine_no, trial_no, gaussian).regret)\n",
    "    epsilon_first_strategy_regret.append(\n",
    "        epsilon_first_strategy(number_of_machines=machine_no,\n",
    "                               number_of_trials=trial_no,\n",
    "                               epsilon=0.06, gaussian=gaussian).regret)\n",
    "    ucb_strategy_regret.append(\n",
    "        ucb_strategy(machine_no, trial_no, confidence_level=2,\n",
    "                     gaussian=gaussian).regret)\n",
    "    thompson.append(\n",
    "        (thompson_sampling_strategy(machine_no, trial_no, gaussian)).regret)"
   ],
   "metadata": {
    "collapsed": false,
    "pycharm": {
     "name": "#%%\n"
    }
   }
  },
  {
   "cell_type": "code",
   "execution_count": 14,
   "outputs": [],
   "source": [
    "random_average = average_finder(random_strategy_regret, trial_no,\n",
    "                                number_of_iterations)\n",
    "epsilon_average = average_finder(epsilon_first_strategy_regret, trial_no,\n",
    "                                 number_of_iterations)\n",
    "ucb_average = average_finder(ucb_strategy_regret, trial_no,\n",
    "                             number_of_iterations)\n",
    "thompson_average = average_finder(thompson, trial_no, number_of_iterations)"
   ],
   "metadata": {
    "collapsed": false,
    "pycharm": {
     "name": "#%%\n"
    }
   }
  },
  {
   "cell_type": "code",
   "execution_count": 6,
   "outputs": [],
   "source": [
    "# plt.style.use('classic')\n",
    "# # plt.plot(random_average, label=\"random\")\n",
    "# plt.plot(epsilon_average, label=\"epsilon-first\")\n",
    "# plt.plot(ucb_average, label=\"ucb\")\n",
    "# plt.plot(thompson_average, label=\"thompson\")\n",
    "# plt.xlabel(\"Round\")\n",
    "# plt.ylabel(\"Cumulative Regret\")\n",
    "# plt.grid()\n",
    "# plt.legend(loc='upper left', frameon=True)\n",
    "# plt.show()"
   ],
   "metadata": {
    "collapsed": false,
    "pycharm": {
     "name": "#%%\n"
    }
   }
  },
  {
   "cell_type": "code",
   "execution_count": 15,
   "outputs": [
    {
     "data": {
      "text/plain": "<Figure size 432x288 with 1 Axes>",
      "image/png": "[encoded data removed]"
     },
     "metadata": {},
     "output_type": "display_data"
    }
   ],
   "source": [
    "fig = plt.figure(facecolor='w')\n",
    "ax = fig.add_subplot(111, facecolor='#dddddd', axisbelow=True)\n",
    "ax.plot(range(len(random_average)), random_average, 'm', alpha=0.5, lw=2,\n",
    "        label='random')\n",
    "ax.plot(range(len(epsilon_average)), epsilon_average, 'b', alpha=0.5, lw=2,\n",
    "        label='epsilon-first')\n",
    "ax.plot(range(len(ucb_average)), ucb_average, 'r', alpha=0.5, lw=2,\n",
    "        label='ucb')\n",
    "ax.plot(range(len(thompson_average)), thompson_average, 'g', alpha=0.5, lw=2,\n",
    "        label='thompson')\n",
    "ax.set_xlabel('Round')\n",
    "ax.set_ylabel('Cumulative Regret')\n",
    "ax.yaxis.set_tick_params(length=0)\n",
    "ax.xaxis.set_tick_params(length=0)\n",
    "ax.grid(b=True, which='both', c='w', lw=2, ls='-')\n",
    "# plt.title(\"\")\n",
    "legend = ax.legend()\n",
    "legend.get_frame().set_alpha(0.5)\n",
    "for spine in ('top', 'right', 'bottom', 'left'):\n",
    "    ax.spines[spine].set_visible(False)\n",
    "plt.savefig('plot.png', dpi=1000, transparent=False, bbox_inches='tight')\n",
    "plt.show()"
   ],
   "metadata": {
    "collapsed": false,
    "pycharm": {
     "name": "#%%\n"
    }
   }
  }
 ],
 "metadata": {
  "kernelspec": {
   "display_name": "Python 3",
   "language": "python",
   "name": "python3"
  },
  "language_info": {
   "codemirror_mode": {
    "name": "ipython",
    "version": 2
   },
   "file_extension": ".py",
   "mimetype": "text/x-python",
   "name": "python",
   "nbconvert_exporter": "python",
   "pygments_lexer": "ipython2",
   "version": "2.7.6"
  }
 },
 "nbformat": 4,
 "nbformat_minor": 0
}