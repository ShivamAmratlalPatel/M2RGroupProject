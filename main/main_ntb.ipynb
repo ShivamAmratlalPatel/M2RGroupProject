{
 "cells": [
  {
   "cell_type": "code",
   "execution_count": 1,
   "outputs": [],
   "source": [
    "from random import random\n",
    "\n",
    "import matplotlib.pyplot as plt\n",
    "\n",
    "from bandits import average_finder\n",
    "from strategies import *"
   ],
   "metadata": {
    "collapsed": false,
    "pycharm": {
     "name": "#%%\n"
    }
   }
  },
  {
   "cell_type": "code",
   "execution_count": 2,
   "outputs": [],
   "source": [
    "machine_no = 3\n",
    "trial_no = 20000\n",
    "gaussian = True\n",
    "number_of_iterations = 5"
   ],
   "metadata": {
    "collapsed": false,
    "pycharm": {
     "name": "#%%\n"
    }
   }
  },
  {
   "cell_type": "code",
   "execution_count": 3,
   "outputs": [],
   "source": [
    "random_strategy_regret = []\n",
    "epsilon_first_strategy_regret = []\n",
    "ucb_strategy_regret = []\n",
    "thompson = []"
   ],
   "metadata": {
    "collapsed": false,
    "pycharm": {
     "name": "#%%\n"
    }
   }
  },
  {
   "cell_type": "code",
   "execution_count": 4,
   "outputs": [],
   "source": [
    "means = [random() for i in range(machine_no)]\n",
    "for i in range(number_of_iterations):\n",
    "    random_strategy_regret.append(\n",
    "        random_strategy_calculator(machine_no, trial_no, means, gaussian).regret)\n",
    "    epsilon_first_strategy_regret.append(\n",
    "        epsilon_first_strategy(number_of_machines=machine_no,\n",
    "                               number_of_trials=trial_no,\n",
    "                               epsilon=0.06, means=means, gaussian=gaussian).regret)\n",
    "    ucb_strategy_regret.append(\n",
    "        ucb_strategy(machine_no, trial_no, confidence_level=1,\n",
    "                     means=means, gaussian=gaussian).regret)\n",
    "    thompson.append(\n",
    "        (thompson_sampling_strategy(machine_no, trial_no, means,\n",
    "                                    gaussian=gaussian)).regret)"
   ],
   "metadata": {
    "collapsed": false,
    "pycharm": {
     "name": "#%%\n"
    }
   }
  },
  {
   "cell_type": "code",
   "execution_count": 5,
   "outputs": [],
   "source": [
    "random_average, rand_minus, rand_plus = average_finder(random_strategy_regret,\n",
    "                                                       trial_no,\n",
    "                                                       number_of_iterations)\n",
    "epsilon_average, eps_minus, eps_plus = average_finder(\n",
    "    epsilon_first_strategy_regret, trial_no, number_of_iterations)\n",
    "ucb_average, ucb_minus, ucb_plus = average_finder(ucb_strategy_regret,\n",
    "                                                  trial_no,\n",
    "                                                  number_of_iterations)\n",
    "thompson_average, thompson_minus, thompson_plus = average_finder(thompson,\n",
    "                                                                 trial_no,\n",
    "                                                                 number_of_iterations)"
   ],
   "metadata": {
    "collapsed": false,
    "pycharm": {
     "name": "#%%\n"
    }
   }
  },
  {
   "cell_type": "code",
   "execution_count": 7,
   "outputs": [
    {
     "data": {
      "text/plain": "<Figure size 432x288 with 1 Axes>",
      "image/png": "[encoded data removed]"
     },
     "metadata": {},
     "output_type": "display_data"
    },
    {
     "name": "stdout",
     "output_type": "stream",
     "text": [
      "[0.5925373412392809, 0.05141055378137627, 0.630928289591767]\n"
     ]
    }
   ],
   "source": [
    "fig = plt.figure(facecolor='w')\n",
    "ax = fig.add_subplot(111, facecolor='#dddddd', axisbelow=True)\n",
    "# ax.plot(range(len(random_average)), random_average, alpha=0.5, lw=2,\n",
    "#         label='random')\n",
    "# ax.fill_between(range(len(random_average)), rand_minus, rand_plus, alpha=.1)\n",
    "# ax.plot(range(len(epsilon_average)), epsilon_average, alpha=0.5, lw=2,\n",
    "#         label='epsilon-first')\n",
    "# ax.fill_between(range(len(epsilon_average)), eps_minus, eps_plus, alpha=.1)\n",
    "ax.plot(range(len(ucb_average)), ucb_average, alpha=0.5, lw=2,\n",
    "        label='ucb')\n",
    "ax.fill_between(range(len(ucb_average)), ucb_minus, ucb_plus, alpha=.1)\n",
    "# ax.plot(range(len(thompson_average)), thompson_average, alpha=0.5, lw=2,\n",
    "#         label='thompson')\n",
    "# ax.fill_between(range(len(thompson_average)), thompson_minus, thompson_plus,\n",
    "#                 alpha=.1)\n",
    "ax.set_xlabel('Round')\n",
    "ax.set_ylabel('Cumulative Regret')\n",
    "ax.yaxis.set_tick_params(length=0)\n",
    "ax.xaxis.set_tick_params(length=0)\n",
    "ax.grid(b=True, which='both', c='w', lw=2, ls='-')\n",
    "# plt.title(\"\")\n",
    "legend = ax.legend(title=\"Strategy\")\n",
    "legend.get_frame().set_alpha(0.5)\n",
    "for spine in ('top', 'right', 'bottom', 'left'):\n",
    "    ax.spines[spine].set_visible(False)\n",
    "plt.savefig('comparison_of_all_strategies_10_machines.png', dpi=1000, transparent=False, bbox_inches='tight')\n",
    "plt.show()\n",
    "print(means)"
   ],
   "metadata": {
    "collapsed": false,
    "pycharm": {
     "name": "#%%\n"
    }
   }
  }
 ],
 "metadata": {
  "kernelspec": {
   "display_name": "Python 3",
   "language": "python",
   "name": "python3"
  },
  "language_info": {
   "codemirror_mode": {
    "name": "ipython",
    "version": 2
   },
   "file_extension": ".py",
   "mimetype": "text/x-python",
   "name": "python",
   "nbconvert_exporter": "python",
   "pygments_lexer": "ipython2",
   "version": "2.7.6"
  }
 },
 "nbformat": 4,
 "nbformat_minor": 0
}