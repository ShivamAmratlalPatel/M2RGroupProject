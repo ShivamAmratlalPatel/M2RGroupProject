{
 "cells": [
  {
   "cell_type": "code",
   "execution_count": 1,
   "outputs": [],
   "source": [
    "import matplotlib.pyplot as plt\n",
    "\n",
    "from bandits import average_finder\n",
    "from strategies import *"
   ],
   "metadata": {
    "collapsed": false,
    "pycharm": {
     "name": "#%%\n"
    }
   }
  },
  {
   "cell_type": "code",
   "execution_count": 2,
   "outputs": [],
   "source": [
    "machine_no = 100\n",
    "trial_no = 20000\n",
    "gaussian = True\n",
    "number_of_iterations = 50\n",
    "numbers_to_try = [0.5, 1, 1.5, 2, 2.5, 3, 4, 5]"
   ],
   "metadata": {
    "collapsed": false,
    "pycharm": {
     "name": "#%%\n"
    }
   }
  },
  {
   "cell_type": "code",
   "execution_count": 3,
   "outputs": [],
   "source": [
    "def strategy_average(plot_object, number_of_its: int, number_machine: int,\n",
    "                     number_trial: int, epsilon_value,\n",
    "                     gaussian_bool=False):\n",
    "    regret_list = []\n",
    "    for iteration in range(number_of_its):\n",
    "        env = ucb_strategy(number_machine, number_trial,\n",
    "                           confidence_level=epsilon_value,\n",
    "                           gaussian=gaussian_bool)\n",
    "        if len(env.regret) != number_trial:\n",
    "            env.update()\n",
    "        regret_list.append(env.regret)\n",
    "    averages, ci_minuss, ci_pluss = average_finder(regret_list, number_trial,\n",
    "                              number_of_its)\n",
    "    plot_object.plot(range(len(averages)), averages, alpha=0.5, lw=2,\n",
    "                     label=str(epsilon_value))\n",
    "    plot_object.fill_between(range(len(averages)), ci_minuss,\n",
    "                                 ci_pluss, alpha=.1)\n",
    "    return"
   ],
   "metadata": {
    "collapsed": false,
    "pycharm": {
     "name": "#%%\n"
    }
   }
  },
  {
   "cell_type": "code",
   "execution_count": null,
   "outputs": [],
   "source": [
    "fig = plt.figure(facecolor='w')\n",
    "ax = fig.add_subplot(111, facecolor='#dddddd', axisbelow=True)\n",
    "for epsilon in numbers_to_try:\n",
    "    strategy_average(plot_object=ax, number_of_its=number_of_iterations,\n",
    "                     number_machine=machine_no, number_trial=trial_no,\n",
    "                     epsilon_value=epsilon, gaussian_bool=gaussian)\n",
    "ax.set_xlabel('Round')\n",
    "ax.set_ylabel('Cumulative Regret')\n",
    "ax.yaxis.set_tick_params(length=0)\n",
    "ax.xaxis.set_tick_params(length=0)\n",
    "ax.grid(b=True, which='both', c='w', lw=2, ls='-')\n",
    "# plt.title(\"\")\n",
    "legend = ax.legend(title=\"Confidence Level\")\n",
    "legend.get_frame().set_alpha(0.5)\n",
    "for spine in ('top', 'right', 'bottom', 'left'):\n",
    "    ax.spines[spine].set_visible(False)\n",
    "plt.savefig('ucb_plot.png', dpi=1000, transparent=False,\n",
    "            bbox_inches='tight')\n",
    "plt.show()"
   ],
   "metadata": {
    "collapsed": false,
    "pycharm": {
     "name": "#%%\n",
     "is_executing": true
    }
   }
  }
 ],
 "metadata": {
  "kernelspec": {
   "display_name": "Python 3",
   "language": "python",
   "name": "python3"
  },
  "language_info": {
   "codemirror_mode": {
    "name": "ipython",
    "version": 2
   },
   "file_extension": ".py",
   "mimetype": "text/x-python",
   "name": "python",
   "nbconvert_exporter": "python",
   "pygments_lexer": "ipython2",
   "version": "2.7.6"
  }
 },
 "nbformat": 4,
 "nbformat_minor": 0
}