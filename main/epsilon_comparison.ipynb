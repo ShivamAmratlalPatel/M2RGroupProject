{
 "cells": [
  {
   "cell_type": "code",
   "execution_count": 1,
   "metadata": {
    "collapsed": true
   },
   "outputs": [],
   "source": [
    "import matplotlib.pyplot as plt\n",
    "\n",
    "from bandits import average_finder\n",
    "from strategies import *"
   ]
  },
  {
   "cell_type": "code",
   "execution_count": 2,
   "outputs": [],
   "source": [
    "machine_no = 100\n",
    "trial_no = 20000\n",
    "gaussian = True\n",
    "number_of_iterations = 5\n"
   ],
   "metadata": {
    "collapsed": false,
    "pycharm": {
     "name": "#%%\n"
    }
   }
  },
  {
   "cell_type": "code",
   "execution_count": 3,
   "outputs": [],
   "source": [
    "numbers_to_try = [0.05, 0.1, 0.25, 0.5]"
   ],
   "metadata": {
    "collapsed": false,
    "pycharm": {
     "name": "#%%\n"
    }
   }
  },
  {
   "cell_type": "code",
   "execution_count": 4,
   "outputs": [],
   "source": [
    "ucb1 = []\n",
    "ucb2 = []\n",
    "ucb_3 = []\n",
    "ucb_4 = []\n",
    "strategy_list = [\"1\", \"2\", \"3\", \"4\"]"
   ],
   "metadata": {
    "collapsed": false,
    "pycharm": {
     "name": "#%%\n"
    }
   }
  },
  {
   "cell_type": "code",
   "execution_count": 5,
   "outputs": [],
   "source": [
    "for i in range(number_of_iterations):\n",
    "    ucb1.append(\n",
    "        epsilon_first_strategy(machine_no, trial_no,\n",
    "                               epsilon=numbers_to_try[0],\n",
    "                               gaussian=gaussian).regret)\n",
    "    ucb2.append(\n",
    "        epsilon_first_strategy(machine_no, trial_no,\n",
    "                               epsilon=numbers_to_try[1],\n",
    "                               gaussian=gaussian).regret)\n",
    "    ucb_3.append(\n",
    "        epsilon_first_strategy(machine_no, trial_no,\n",
    "                               epsilon=numbers_to_try[2],\n",
    "                               gaussian=gaussian).regret)\n",
    "    ucb_4.append(epsilon_first_strategy(machine_no, trial_no,\n",
    "                                        epsilon=numbers_to_try[3],\n",
    "                                        gaussian=gaussian).regret)"
   ],
   "metadata": {
    "collapsed": false,
    "pycharm": {
     "name": "#%%\n"
    }
   }
  },
  {
   "cell_type": "code",
   "execution_count": 6,
   "outputs": [],
   "source": [
    "ucb1_average = average_finder(ucb1, trial_no,\n",
    "                              number_of_iterations)\n",
    "ucb2_average = average_finder(ucb2, trial_no,\n",
    "                              number_of_iterations)\n",
    "ucb3_average = average_finder(ucb_3, trial_no,\n",
    "                              number_of_iterations)\n",
    "ucb4_average = average_finder(ucb_4, trial_no, number_of_iterations)"
   ],
   "metadata": {
    "collapsed": false,
    "pycharm": {
     "name": "#%%\n"
    }
   }
  },
  {
   "cell_type": "code",
   "execution_count": 7,
   "outputs": [
    {
     "data": {
      "text/plain": "<Figure size 432x288 with 1 Axes>",
      "image/png": "[encoded data removed]"
     },
     "metadata": {},
     "output_type": "display_data"
    }
   ],
   "source": [
    "fig = plt.figure(facecolor='w')\n",
    "ax = fig.add_subplot(111, facecolor='#dddddd', axisbelow=True)\n",
    "ax.plot(range(len(ucb1_average)), ucb1_average, 'm', alpha=0.5, lw=2,\n",
    "        label=str(numbers_to_try[0]))\n",
    "ax.plot(range(len(ucb2_average)), ucb2_average, 'b', alpha=0.5, lw=2,\n",
    "        label=str(numbers_to_try[1]))\n",
    "ax.plot(range(len(ucb3_average)), ucb3_average, 'r', alpha=0.5, lw=2,\n",
    "        label=str(numbers_to_try[2]))\n",
    "ax.plot(range(len(ucb4_average)), ucb4_average, 'g', alpha=0.5, lw=2,\n",
    "        label=str(numbers_to_try[3]))\n",
    "ax.set_xlabel('Round')\n",
    "ax.set_ylabel('Cumulative Regret')\n",
    "ax.yaxis.set_tick_params(length=0)\n",
    "ax.xaxis.set_tick_params(length=0)\n",
    "ax.grid(b=True, which='both', c='w', lw=2, ls='-')\n",
    "# plt.title(\"\")\n",
    "legend = ax.legend()\n",
    "legend.get_frame().set_alpha(0.5)\n",
    "for spine in ('top', 'right', 'bottom', 'left'):\n",
    "    ax.spines[spine].set_visible(False)\n",
    "plt.savefig('epsilon_plot.png', dpi=1000, transparent=False, bbox_inches='tight')\n",
    "plt.show()"
   ],
   "metadata": {
    "collapsed": false,
    "pycharm": {
     "name": "#%%\n"
    }
   }
  }
 ],
 "metadata": {
  "kernelspec": {
   "display_name": "Python 3",
   "language": "python",
   "name": "python3"
  },
  "language_info": {
   "codemirror_mode": {
    "name": "ipython",
    "version": 2
   },
   "file_extension": ".py",
   "mimetype": "text/x-python",
   "name": "python",
   "nbconvert_exporter": "python",
   "pygments_lexer": "ipython2",
   "version": "2.7.6"
  }
 },
 "nbformat": 4,
 "nbformat_minor": 0
}